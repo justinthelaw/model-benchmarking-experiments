{
 "cells": [
  {
   "cell_type": "markdown",
   "metadata": {},
   "source": [
    "If using GPU for inferencing, ensure that the appropriate NVIDIA drivers and cuda-11.x are installed.\n",
    "\n",
    "Install all required dependencies via the CLI:\n",
    "\n",
    "```bash\n",
    "sudo apt install ffmpeg\n",
    "python -m venv .venv && source .venv/bin/activate\n",
    "pip install -r requirements.txt\n",
    "```"
   ]
  },
  {
   "cell_type": "markdown",
   "metadata": {},
   "source": [
    "Choose the Whisper model identifier that you would like to use."
   ]
  },
  {
   "cell_type": "code",
   "execution_count": 5,
   "metadata": {},
   "outputs": [
    {
     "name": "stdout",
     "output_type": "stream",
     "text": [
      "Desired Whisper Model: large\n",
      "GPU inferencing: yes\n",
      "Selected inference solution: faster\n"
     ]
    }
   ],
   "source": [
    "desired_whisper_model = input(\"Whisper model version (e.g., base.en, large):\")\n",
    "inference_solution = int(\n",
    "    input(\"Choose one using the number: (1) pywhispercpp or (2) faster-whisper\")\n",
    ")\n",
    "inference_solution = \"cpp\" if inference_solution == 1 else \"faster\"\n",
    "gpu_on = \"no\" if inference_solution == \"cpp\" else input(\"Inference with GPU (yes or no)?\").lower()\n",
    "\n",
    "print(f\"Desired Whisper Model: {desired_whisper_model}\")\n",
    "print(f\"GPU inferencing: {gpu_on}\")\n",
    "print(f\"Selected inference solution: {inference_solution}\")"
   ]
  },
  {
   "cell_type": "markdown",
   "metadata": {},
   "source": [
    "Read in all available audio files from `samples/audio`. Assumes that the audio files all have a matching file within `sample/truth`."
   ]
  },
  {
   "cell_type": "code",
   "execution_count": 6,
   "metadata": {},
   "outputs": [
    {
     "name": "stdout",
     "output_type": "stream",
     "text": [
      "Files: ['0min12sec', '3min47sec', '13min56sec']\n"
     ]
    }
   ],
   "source": [
    "import os\n",
    "\n",
    "audio_dir = \"samples/audio/\"\n",
    "transcription_dir = \"samples/transcription/\"\n",
    "truth_dir = \"samples/truth/\"\n",
    "\n",
    "files = os.listdir(audio_dir)\n",
    "\n",
    "filenames = []\n",
    "for file in files:\n",
    "    name, ext = os.path.splitext(file)\n",
    "    if (ext):\n",
    "        filenames.append(name)\n",
    "\n",
    "print(f\"Files: {filenames}\")"
   ]
  },
  {
   "cell_type": "markdown",
   "metadata": {},
   "source": [
    "Use the python binding for whisper.cpp to inference whisper GGML. Cross-platform and cross-language.\n",
    "\n",
    "Use faster-whisper for CTransformers2 inferencing acceleration. Python only,"
   ]
  },
  {
   "cell_type": "code",
   "execution_count": 7,
   "metadata": {},
   "outputs": [
    {
     "name": "stdout",
     "output_type": "stream",
     "text": [
      "[2023-10-19 16:11:21,085] {transcribe.py:263} INFO - Processing audio with duration 00:12.669\n",
      "[2023-10-19 16:11:21,281] {transcribe.py:317} INFO - Detected language 'en' with probability 0.98\n",
      "Filename: samples/audio/0min12sec.wav\n",
      "Transcribed in 0.3175 seconds\n",
      "[2023-10-19 16:11:21,678] {transcribe.py:263} INFO - Processing audio with duration 03:47.527\n",
      "[2023-10-19 16:11:21,872] {transcribe.py:317} INFO - Detected language 'en' with probability 0.96\n",
      "Filename: samples/audio/3min47sec.wav\n",
      "Transcribed in 6.9232 seconds\n",
      "[2023-10-19 16:11:28,895] {transcribe.py:263} INFO - Processing audio with duration 13:58.191\n",
      "[2023-10-19 16:11:29,421] {transcribe.py:317} INFO - Detected language 'en' with probability 1.00\n",
      "Filename: samples/audio/13min56sec.wav\n",
      "Transcribed in 23.7832 seconds\n"
     ]
    }
   ],
   "source": [
    "if inference_solution == \"cpp\":\n",
    "    from pywhispercpp.model import Model\n",
    "\n",
    "    model = Model(desired_whisper_model, models_dir=\"./models\")\n",
    "\n",
    "    for filename in filenames:\n",
    "        audio_file = f\"{audio_dir}{filename}.wav\"\n",
    "        print(f\"Filename: {audio_file}\")\n",
    "        segments = model.transcribe(audio_file, speed_up=True)\n",
    "\n",
    "        transcript = \"\"\n",
    "        for segment in segments:\n",
    "            transcript = \" \".join([seg.text for seg in segments])\n",
    "\n",
    "        transcript_file = f\"{transcription_dir}{filename}-{inference_solution}-{desired_whisper_model}.txt\"\n",
    "        with open(transcript_file, \"w\") as f:\n",
    "            f.write(transcript)\n",
    "\n",
    "else:\n",
    "    from faster_whisper import WhisperModel\n",
    "    import time\n",
    "\n",
    "    model = WhisperModel(\n",
    "        desired_whisper_model,\n",
    "        device=\"cuda\" if gpu_on == \"yes\" else \"cpu\",\n",
    "        compute_type=\"int8_float16\" if gpu_on == \"yes\" else \"int8\",\n",
    "        download_root=\"./models\",\n",
    "    )\n",
    "\n",
    "    for filename in filenames:\n",
    "        audio_file = f\"{audio_dir}{filename}.wav\"\n",
    "        segments, info = model.transcribe(audio_file)\n",
    "\n",
    "        print(f\"Filename: {audio_file}\")\n",
    "        start = time.perf_counter()\n",
    "        segments = list(segments)\n",
    "        end = time.perf_counter()\n",
    "        print(f\"Transcribed in {end - start:0.4f} seconds\")\n",
    "\n",
    "        transcript = \"\"\n",
    "        for segment in segments:\n",
    "            transcript = \" \".join([seg.text for seg in segments])\n",
    "\n",
    "        transcript_file = f\"{transcription_dir}{filename}-{inference_solution}-{desired_whisper_model}.txt\"\n",
    "        with open(transcript_file, \"w\") as f:\n",
    "            f.write(transcript)"
   ]
  },
  {
   "cell_type": "markdown",
   "metadata": {},
   "source": [
    "Calculate Word Error Rate (WER) and Word Information Loss (WIL). WER measures word-level accuracy. WIL measures semantic fidelity. WER compares words. WIL compares meaning.\n",
    "\n",
    "Calculate the cosine-similarity of the paragraphs using a sentence embedding model."
   ]
  },
  {
   "cell_type": "code",
   "execution_count": 8,
   "metadata": {},
   "outputs": [
    {
     "name": "stdout",
     "output_type": "stream",
     "text": [
      "[2023-10-19 16:11:53,211] {SentenceTransformer.py:66} INFO - Load pretrained SentenceTransformer: sentence-transformers/all-MiniLM-L6-v2\n",
      "[2023-10-19 16:11:53,291] {SentenceTransformer.py:105} INFO - Use pytorch device: cuda\n"
     ]
    },
    {
     "name": "stderr",
     "output_type": "stream",
     "text": [
      "Batches: 100%|██████████| 1/1 [00:00<00:00, 490.16it/s]\n",
      "Batches: 100%|██████████| 1/1 [00:00<00:00, 547.13it/s]\n"
     ]
    },
    {
     "name": "stdout",
     "output_type": "stream",
     "text": [
      "[0min12sec] Word Error Rate: 0.08571428571428572\n",
      "[0min12sec] Word Information Loss: 0.1394957983193278\n",
      "[0min12sec] Document Cosine-Similarity: 0.9969894886016846\n"
     ]
    },
    {
     "name": "stderr",
     "output_type": "stream",
     "text": [
      "Batches: 100%|██████████| 1/1 [00:00<00:00, 388.79it/s]\n",
      "Batches: 100%|██████████| 1/1 [00:00<00:00, 399.08it/s]\n"
     ]
    },
    {
     "name": "stdout",
     "output_type": "stream",
     "text": [
      "[3min47sec] Word Error Rate: 0.07142857142857142\n",
      "[3min47sec] Word Information Loss: 0.11541518879078305\n",
      "[3min47sec] Document Cosine-Similarity: 0.9909672737121582\n"
     ]
    },
    {
     "name": "stderr",
     "output_type": "stream",
     "text": [
      "Batches: 100%|██████████| 1/1 [00:00<00:00, 180.62it/s]\n",
      "Batches: 100%|██████████| 1/1 [00:00<00:00, 210.38it/s]"
     ]
    },
    {
     "name": "stdout",
     "output_type": "stream",
     "text": [
      "[13min56sec] Word Error Rate: 0.06532222709338009\n",
      "[13min56sec] Word Information Loss: 0.10532975919927212\n",
      "[13min56sec] Document Cosine-Similarity: 0.9494907855987549\n"
     ]
    },
    {
     "name": "stderr",
     "output_type": "stream",
     "text": [
      "\n"
     ]
    }
   ],
   "source": [
    "from jiwer import wer, process_words\n",
    "from sentence_transformers import SentenceTransformer, util\n",
    "\n",
    "model = SentenceTransformer(\"sentence-transformers/all-MiniLM-L6-v2\")\n",
    "\n",
    "\n",
    "for filename in filenames:\n",
    "    truth = \"\"\n",
    "    transcript = \"\"\n",
    "\n",
    "    transcript_file = f\"{transcription_dir}{filename}-{inference_solution}-{desired_whisper_model}.txt\"\n",
    "    with open(transcript_file, \"r\") as f:\n",
    "        transcript = f.read()\n",
    "\n",
    "    truth_file = f\"{truth_dir}{filename}.txt\"\n",
    "    with open(truth_file, \"r\") as f:\n",
    "        truth = f.read()\n",
    "\n",
    "    output = process_words(truth, transcript)\n",
    "\n",
    "    wer = output.wer\n",
    "    wil = output.wil\n",
    "\n",
    "    truth_embedding = model.encode(truth, convert_to_tensor=True)\n",
    "    transcript_embedding = model.encode(transcript, convert_to_tensor=True)\n",
    "\n",
    "    document_similarity = util.pytorch_cos_sim(\n",
    "        truth_embedding, transcript_embedding\n",
    "    ).item()\n",
    "\n",
    "    print(f\"[{filename}] Word Error Rate: {wer}\")\n",
    "    print(f\"[{filename}] Word Information Loss: {wil}\")\n",
    "    print(f\"[{filename}] Document Cosine-Similarity: {document_similarity}\")"
   ]
  }
 ],
 "metadata": {
  "kernelspec": {
   "display_name": ".venv",
   "language": "python",
   "name": "python3"
  },
  "language_info": {
   "codemirror_mode": {
    "name": "ipython",
    "version": 3
   },
   "file_extension": ".py",
   "mimetype": "text/x-python",
   "name": "python",
   "nbconvert_exporter": "python",
   "pygments_lexer": "ipython3",
   "version": "3.10.12"
  }
 },
 "nbformat": 4,
 "nbformat_minor": 2
}
